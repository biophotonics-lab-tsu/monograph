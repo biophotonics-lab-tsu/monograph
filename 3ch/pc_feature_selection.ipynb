{
 "cells": [
  {
   "cell_type": "markdown",
   "metadata": {},
   "source": [
    "### №1 Section for importing libraries and reading data"
   ]
  },
  {
   "cell_type": "code",
   "execution_count": null,
   "metadata": {},
   "outputs": [],
   "source": [
    "import os\n",
    "import numpy as np\n",
    "import matplotlib.pyplot as plt\n",
    "from sklearn import svm\n",
    "from sklearn.model_selection import train_test_split\n",
    "from scipy.stats import pearsonr\n",
    "from sklearn import metrics\n",
    "\n",
    "colors = ['b', 'g', 'r']\n",
    "markers = ['s', '*', 'o']\n",
    "work_dir_path = os.path.join(os.getcwd(), 'bin_data')\n",
    "spectra_path = os.path.join(work_dir_path, 'data.npy')\n",
    "labels_path = os.path.join(work_dir_path, 'labels.npy')\n",
    "spectra = np.load(spectra_path)\n",
    "labels_tmp = np.load(labels_path)\n",
    "labels = np.asarray([int(i[1:])-1  for i in labels_tmp])"
   ]
  },
  {
   "cell_type": "markdown",
   "metadata": {},
   "source": [
    "### №2 Section for visualizing input data"
   ]
  },
  {
   "cell_type": "code",
   "execution_count": null,
   "metadata": {},
   "outputs": [],
   "source": [
    "def plot_spectra(spectra, labels):\n",
    "    unique_labels = np.unique(labels)\n",
    "\n",
    "    fig = plt.figure(figsize=(15, 7), dpi=100)\n",
    "    plt.ylabel('Absorption', fontsize=10)\n",
    "    plt.xlabel('Wavenumber / frequency / wavelength', fontsize=10)\n",
    "    plt.xticks(fontsize=8)\n",
    "    plt.yticks(fontsize=8)\n",
    "    c = 1\n",
    "    for label in unique_labels:\n",
    "        label_indices = (labels[:] == label)\n",
    "        label_spectra = spectra[label_indices]\n",
    "        \n",
    "        for spectrum in label_spectra:\n",
    "            plt.plot(range(0, len(spectrum)), spectrum, color=colors[len(colors) % c], label=label)\n",
    "        c += 1\n",
    "\n",
    "    legend_handles, legend_labels = plt.gca().get_legend_handles_labels()\n",
    "    handle_by_label = dict(zip(legend_labels, legend_handles))\n",
    "    plt.legend(handle_by_label.values(), handle_by_label.keys()) \n",
    "    plt.show()\n",
    "\n",
    "    return\n",
    "\n",
    "plot_spectra(spectra, labels)"
   ]
  },
  {
   "cell_type": "code",
   "execution_count": null,
   "metadata": {},
   "outputs": [],
   "source": [
    "### №3 Section for Pearson correlation based feature selection"
   ]
  },
  {
   "cell_type": "code",
   "execution_count": 13,
   "metadata": {
    "tags": []
   },
   "outputs": [
    {
     "output_type": "stream",
     "name": "stdout",
     "text": [
      "2000\n",
      "1982\n",
      "0\n",
      "138\n",
      "157\n",
      "243\n",
      "289\n",
      "297\n",
      "422\n",
      "439\n",
      "778\n",
      "786\n",
      "923\n",
      "979\n",
      "1073\n",
      "1131\n",
      "1146\n",
      "1202\n",
      "1207\n",
      "1995\n"
     ]
    }
   ],
   "source": [
    "       \n",
    "random_state = 42\n",
    "#Number of component was reduced to 2000 to lower computational cost of the method\n",
    "spectra_cut = spectra[:, :2000]\n",
    "#Set correlation threshold\n",
    "threshold = 0.9\n",
    "features = []\n",
    "for i in range(spectra_cut.shape[1]):\n",
    "    for j in range(i+1, spectra_cut.shape[1]):\n",
    "        if pearsonr(spectra_cut[:, i], spectra_cut[:, j])[0] >= threshold:\n",
    "            features.append(j)\n",
    "res = [] \n",
    "[res.append(x) for x in features if x not in res] \n",
    "#Output components with correlation less then threshold\n",
    "for i in range(spectra_cut.shape[1]):\n",
    "    if i not in res:\n",
    "        print(i)\n"
   ]
  },
  {
   "cell_type": "code",
   "execution_count": null,
   "metadata": {},
   "outputs": [],
   "source": []
  }
 ],
 "metadata": {
  "kernelspec": {
   "name": "python3",
   "display_name": "Python 3.8.2 64-bit",
   "metadata": {
    "interpreter": {
     "hash": "74a1bbb3c47ef24900eede8e54c67dc6dfa4a4c0d2719973b4c86596fd1c5945"
    }
   }
  },
  "language_info": {
   "codemirror_mode": {
    "name": "ipython",
    "version": 3
   },
   "file_extension": ".py",
   "mimetype": "text/x-python",
   "name": "python",
   "nbconvert_exporter": "python",
   "pygments_lexer": "ipython3",
   "version": "3.8.2-final"
  }
 },
 "nbformat": 4,
 "nbformat_minor": 5
}