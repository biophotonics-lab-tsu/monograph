{
 "cells": [
  {
   "cell_type": "markdown",
   "metadata": {},
   "source": [
    "### №1 Section for importing libraries and reading data"
   ]
  },
  {
   "cell_type": "code",
   "execution_count": 6,
   "metadata": {},
   "outputs": [],
   "source": [
    "import os\n",
    "import numpy as np\n",
    "import matplotlib.pyplot as plt\n",
    "from sklearn.model_selection import train_test_split\n",
    "from sklearn.ensemble import RandomForestClassifier\n",
    "from genetic_selection import GeneticSelectionCV\n",
    "from sklearn import metrics\n",
    "\n",
    "colors = ['b', 'g', 'r']\n",
    "markers = ['s', '*', 'o']\n",
    "work_dir_path = os.path.join(os.getcwd(), 'bin_data')\n",
    "spectra_path = os.path.join(work_dir_path, 'data.npy')\n",
    "labels_path = os.path.join(work_dir_path, 'labels.npy')\n",
    "spectra = np.load(spectra_path)\n",
    "labels_tmp = np.load(labels_path)\n",
    "labels = np.asarray([int(i[1:])-1  for i in labels_tmp])"
   ]
  },
  {
   "cell_type": "markdown",
   "metadata": {},
   "source": [
    "### №2 Section for visualizing input data"
   ]
  },
  {
   "cell_type": "code",
   "execution_count": null,
   "metadata": {},
   "outputs": [],
   "source": [
    "def plot_spectra(spectra, labels):\n",
    "    unique_labels = np.unique(labels)\n",
    "\n",
    "    fig = plt.figure(figsize=(15, 7), dpi=100)\n",
    "    plt.ylabel('Absorption', fontsize=10)\n",
    "    plt.xlabel('Wavenumber / frequency / wavelength', fontsize=10)\n",
    "    plt.xticks(fontsize=8)\n",
    "    plt.yticks(fontsize=8)\n",
    "    c = 1\n",
    "    for label in unique_labels:\n",
    "        label_indices = (labels[:] == label)\n",
    "        label_spectra = spectra[label_indices]\n",
    "        \n",
    "        for spectrum in label_spectra:\n",
    "            plt.plot(range(0, len(spectrum)), spectrum, color=colors[len(colors) % c], label=label)\n",
    "        c += 1\n",
    "\n",
    "    legend_handles, legend_labels = plt.gca().get_legend_handles_labels()\n",
    "    handle_by_label = dict(zip(legend_labels, legend_handles))\n",
    "    plt.legend(handle_by_label.values(), handle_by_label.keys()) \n",
    "    plt.show()\n",
    "\n",
    "    return\n",
    "\n",
    "plot_spectra(spectra, labels)"
   ]
  },
  {
   "cell_type": "code",
   "execution_count": null,
   "metadata": {},
   "outputs": [],
   "source": [
    "### №3 Section for feature selection based on genetic algorithm"
   ]
  },
  {
   "cell_type": "code",
   "execution_count": 7,
   "metadata": {
    "tags": []
   },
   "outputs": [
    {
     "output_type": "stream",
     "name": "stdout",
     "text": [
      "Selecting features with genetic algorithm.\n",
      "gen\tnevals\tavg          \tstd                    \tmin      \tmax    \n",
      "0  \t50    \t[0.812 3.28 ]\t[0.14914423 1.48377896]\t[0.4 1. ]\t[1. 5.]\n",
      "1  \t39    \t[-2999.3576    54.04  ]\t[4582.99624508  100.5516703 ]\t[-1.e+04  1.e+00]\t[  1. 292.]\n",
      "2  \t34    \t[-3399.3704    83.66  ]\t[4737.53960271  117.85662646]\t[-10000.      0.]\t[  1. 279.]\n",
      "3  \t27    \t[-2399.2542    64.1   ]\t[4271.25040437  109.56536862]\t[-1.e+04  1.e+00]\t[  1. 283.]\n",
      "4  \t22    \t[-2999.3094    58.    ]\t[4583.02779891  102.41230395]\t[-10000.      0.]\t[  1. 271.]\n",
      "5  \t24    \t[-1599.1608    41.56  ]\t[3666.42681287   91.52992079]\t[-1.e+04  1.e+00]\t[  1. 268.]\n",
      "6  \t35    \t[-3199.32    79.5 ]    \t[4665.22799203  114.60789676]\t[-1.e+04  1.e+00]\t[  1. 286.]\n",
      "7  \t38    \t[-2599.2604    59.5   ]\t[4386.78083704  101.57465235]\t[-1.e+04  1.e+00]\t[  1. 268.]\n",
      "8  \t28    \t[-1799.18    38.66]    \t[3842.25872991   87.21068971]\t[-1.e+04  1.e+00]\t[  1. 278.]\n",
      "9  \t31    \t[-2799.28    70.58]    \t[4490.43786302  111.85080956]\t[-1.e+04  1.e+00]\t[  1. 276.]\n",
      "10 \t34    \t[-2399.24    56.76]    \t[4271.25838394  102.46180947]\t[-1.e+04  1.e+00]\t[  1. 293.]\n",
      "[False False False ... False False False]\n",
      "1\n",
      "Before feature selection\n",
      "Accuracy: 1.0 Precision: 1.0 Recall: 1.0\n",
      "After feature selection\n",
      "Accuracy: 1.0 Precision: 1.0 Recall: 1.0\n"
     ]
    }
   ],
   "source": [
    "random_state = 42\n",
    "#Number of component was reduced to 5000 to lower computational cost of the method. Data was processed for the first class only\n",
    "spectra_cut = spectra[:, :5000]\n",
    "\n",
    "# define random forest classifier, with utilising all cores and\n",
    "# sampling in proportion to y labels\n",
    "clf = RandomForestClassifier(n_jobs=-1, class_weight='balanced', max_depth=5)\n",
    "\n",
    "# define Boruta feature selection method\n",
    "feat_selector = GeneticSelectionCV(clf,\n",
    "                                   cv=5,\n",
    "                                   verbose=1,\n",
    "                                   scoring=\"accuracy\",\n",
    "                                   max_features=5,\n",
    "                                   n_population=50,\n",
    "                                   crossover_proba=0.5,\n",
    "                                   mutation_proba=0.2,\n",
    "                                   n_generations=40,\n",
    "                                   crossover_independent_proba=0.5,\n",
    "                                   mutation_independent_proba=0.05,\n",
    "                                   tournament_size=3,\n",
    "                                   n_gen_no_change=10,\n",
    "                                   caching=True,\n",
    "                                   n_jobs=-1)\n",
    "\n",
    "# find all relevant features - 5 features should be selected\n",
    "feat_selector.fit(spectra_cut, labels)\n",
    "\n",
    "# check selected features - first 5 features are selected\n",
    "print(feat_selector.support_)\n",
    "print(np.sum(feat_selector.support_))\n",
    "X_train, X_test, y_train, y_test = train_test_split(spectra_cut, labels, random_state=random_state, test_size=0.3, stratify=labels)\n",
    "clf.fit(X_train, y_train)\n",
    "y_pred = clf.predict(X_test)\n",
    "print(\"Accuracy metrics for classifier\")\n",
    "print('Before feature selection')\n",
    "print(\"Accuracy:\", metrics.accuracy_score(y_test, y_pred),\\\n",
    "    \"Precision:\", metrics.precision_score(y_test,y_pred), \"Recall:\",metrics.recall_score(y_test, y_pred))\n",
    "# call transform() on X to filter it down to selected features\n",
    "X = feat_selector.transform(spectra_cut)\n",
    "X_train, X_test, y_train, y_test = train_test_split(spectra_cut, labels, random_state=random_state, test_size=0.3, stratify=labels)\n",
    "clf.fit(X_train, y_train)\n",
    "y_pred = clf.predict(X_test)\n",
    "print('After feature selection')\n",
    "print(\"Accuracy:\", metrics.accuracy_score(y_test, y_pred),\\\n",
    "    \"Precision:\", metrics.precision_score(y_test,y_pred), \"Recall:\",metrics.recall_score(y_test, y_pred))\n",
    "\n",
    "\n",
    "\n"
   ]
  },
  {
   "cell_type": "code",
   "execution_count": null,
   "metadata": {},
   "outputs": [],
   "source": []
  }
 ],
 "metadata": {
  "kernelspec": {
   "name": "python3",
   "display_name": "Python 3.8.2 64-bit",
   "metadata": {
    "interpreter": {
     "hash": "74a1bbb3c47ef24900eede8e54c67dc6dfa4a4c0d2719973b4c86596fd1c5945"
    }
   }
  },
  "language_info": {
   "codemirror_mode": {
    "name": "ipython",
    "version": 3
   },
   "file_extension": ".py",
   "mimetype": "text/x-python",
   "name": "python",
   "nbconvert_exporter": "python",
   "pygments_lexer": "ipython3",
   "version": "3.8.2-final"
  }
 },
 "nbformat": 4,
 "nbformat_minor": 5
}