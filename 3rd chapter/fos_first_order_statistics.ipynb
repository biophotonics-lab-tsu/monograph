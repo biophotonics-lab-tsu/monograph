{
 "cells": [
  {
   "source": [
    "### №1 Section for importing main libraries and defining main function"
   ],
   "cell_type": "markdown",
   "metadata": {}
  },
  {
   "cell_type": "code",
   "execution_count": 1,
   "metadata": {},
   "outputs": [],
   "source": [
    "import os\n",
    "import numpy as np\n",
    "import matplotlib.pyplot as plt\n",
    "import statistics\n",
    "from PIL import Image\n",
    "\n",
    "def plot2figs(image1, image2, title):\n",
    "    plt.subplot(1,2,1)\n",
    "    plt.axis('off')\n",
    "    plt.imshow(image1, cmap=plt.cm.gray)\n",
    "    plt.title('Original image')\n",
    "    plt.subplot(1,2,2)\n",
    "    plt.axis('off')\n",
    "    plt.imshow(image2, cmap=plt.cm.gray)\n",
    "    plt.title(title)\n",
    "    plt.show()"
   ]
  },
  {
   "source": [
    "### №2 Section for loading image"
   ],
   "cell_type": "markdown",
   "metadata": {}
  },
  {
   "cell_type": "code",
   "execution_count": 5,
   "metadata": {},
   "outputs": [],
   "source": [
    "image = np.asarray(Image.open(os.path.join('../bin_data', 'collagen.png')))"
   ]
  },
  {
   "source": [
    "### №3 Section for First-order statistics (FOS)"
   ],
   "cell_type": "markdown",
   "metadata": {}
  },
  {
   "cell_type": "code",
   "execution_count": 7,
   "metadata": {},
   "outputs": [
    {
     "output_type": "stream",
     "name": "stdout",
     "text": [
      "Mean value for image:  139.29812622070312\n",
      "STD value for image:  57.48243394771488\n",
      "Median value of data:  17.0\n",
      "Harmonic mean value of data:  0.0\n"
     ]
    }
   ],
   "source": [
    "print('Mean value for image: ', np.mean(image))\n",
    "print('STD value for image: ', np.std(image))\n",
    "print('Median value of data: ', statistics.median(image.flatten()))\n",
    "print('Harmonic mean value of data: ', statistics.harmonic_mean(image.flatten()))"
   ]
  }
 ],
 "metadata": {
  "kernelspec": {
   "name": "python3",
   "display_name": "Python 3.7.5 64-bit",
   "metadata": {
    "interpreter": {
     "hash": "f9075729330228b10616ea3068458b47c3472b4238f1da9df9f8bb7aab70902a"
    }
   }
  },
  "language_info": {
   "codemirror_mode": {
    "name": "ipython",
    "version": 3
   },
   "file_extension": ".py",
   "mimetype": "text/x-python",
   "name": "python",
   "nbconvert_exporter": "python",
   "pygments_lexer": "ipython3",
   "version": "3.7.5-final"
  }
 },
 "nbformat": 4,
 "nbformat_minor": 5
}