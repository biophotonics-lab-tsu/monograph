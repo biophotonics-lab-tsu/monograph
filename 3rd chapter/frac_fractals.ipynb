{
 "cells": [
  {
   "source": [
    "### №1 Section for importing main libraries and defining main function"
   ],
   "cell_type": "markdown",
   "metadata": {}
  },
  {
   "cell_type": "code",
   "execution_count": 3,
   "metadata": {},
   "outputs": [],
   "source": [
    "import os\n",
    "import numpy as np\n",
    "import matplotlib.pyplot as plt\n",
    "import statistics\n",
    "from PIL import Image\n",
    "from skimage.transform import rescale\n",
    "\n",
    "def plot2figs(image1, image2, title):\n",
    "    plt.subplot(1,2,1)\n",
    "    plt.axis('off')\n",
    "    plt.imshow(image1, cmap=plt.cm.gray)\n",
    "    plt.title('Original image')\n",
    "    plt.subplot(1,2,2)\n",
    "    plt.axis('off')\n",
    "    plt.imshow(image2, cmap=plt.cm.gray)\n",
    "    plt.title(title)\n",
    "    plt.show()"
   ]
  },
  {
   "source": [
    "### №2 Section for loading image"
   ],
   "cell_type": "markdown",
   "metadata": {}
  },
  {
   "cell_type": "code",
   "execution_count": 4,
   "metadata": {},
   "outputs": [],
   "source": [
    "image = Image.open(os.path.join('../bin_data', 'collagen.png'))"
   ]
  },
  {
   "cell_type": "code",
   "execution_count": 5,
   "metadata": {},
   "outputs": [],
   "source": [
    "### №12 Section for fractal dimention"
   ]
  },
  {
   "cell_type": "code",
   "execution_count": 6,
   "metadata": {},
   "outputs": [
    {
     "output_type": "stream",
     "name": "stdout",
     "text": [
      "Fractal dimention is  1.646830818129848\n"
     ]
    }
   ],
   "source": [
    "def box_counter(image, k):\n",
    "    S = np.add.reduceat(\n",
    "        np.add.reduceat(image, np.arange(0, image.shape[0], k), axis=0),\n",
    "                               np.arange(0, image.shape[1], k), axis=1)\n",
    "    return len(np.where((S > 0) & (S < k**2))[0])\n",
    "\n",
    "def fractal_dimension(image, threshold=0.7):\n",
    "    assert(len(image.shape) == 2)\n",
    "    # Binarization\n",
    "    image = (image < threshold)\n",
    "    # Calculating greatest power of 2\n",
    "    n = 2**np.floor(np.log(min(image.shape))/np.log(2))\n",
    "    # Calculating size\n",
    "    sizes = 2**np.arange(int(np.log(n)/np.log(2)), 1, -1)\n",
    "    # Box counting using iteration by all sizes\n",
    "    boxes_number = []\n",
    "    [boxes_number.append(box_counter(image, size)) for size in sizes]\n",
    "    # Formula for Minkowski dimention\n",
    "    results = -np.polyfit(np.log(sizes), np.log(boxes_number), 1)[0]\n",
    "    return results\n",
    "\n",
    "image = np.asarray(image)\n",
    "rescaled = rescale(image, 0.75)\n",
    "print('Fractal dimention is ', fractal_dimension(rescaled))\n"
   ]
  }
 ],
 "metadata": {
  "kernelspec": {
   "name": "python3",
   "display_name": "Python 3.7.5 64-bit",
   "metadata": {
    "interpreter": {
     "hash": "f9075729330228b10616ea3068458b47c3472b4238f1da9df9f8bb7aab70902a"
    }
   }
  },
  "language_info": {
   "codemirror_mode": {
    "name": "ipython",
    "version": 3
   },
   "file_extension": ".py",
   "mimetype": "text/x-python",
   "name": "python",
   "nbconvert_exporter": "python",
   "pygments_lexer": "ipython3",
   "version": "3.7.5-final"
  }
 },
 "nbformat": 4,
 "nbformat_minor": 5
}